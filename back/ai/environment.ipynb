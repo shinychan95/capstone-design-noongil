{
 "cells": [
  {
   "cell_type": "markdown",
   "metadata": {},
   "source": [
    "# Python Environment\n",
    "시스템 내 기본 python과 jupyter notebook에서 사용하는 python이 같은 지 확인하는 법\n",
    "> Cell 내 윗 주석은 설명, 아래 주석은 찬영의 결과"
   ]
  },
  {
   "cell_type": "code",
   "execution_count": null,
   "metadata": {},
   "outputs": [],
   "source": [
    "# 앞에 느낌표를 붙이면 터미널 명령어(Command Prompt에 명령어 입력)로써 작동하는데,\n",
    "# 컴퓨터 내 기본 python이 무엇인지 찾기 위해서 살펴본다.\n",
    "!python --version\n",
    "\n",
    "# 출력\n",
    "# Python 3.6.8"
   ]
  },
  {
   "cell_type": "code",
   "execution_count": null,
   "metadata": {},
   "outputs": [],
   "source": [
    "# python이 여러 개가 다운로드 된 경우 여러 개가 등장한다.\n",
    "!WHERE python\n",
    "\n",
    "# 출력\n",
    "# C:\\Users\\codybright\\AppData\\Local\\Programs\\Python\\Python36\\python.exe"
   ]
  },
  {
   "cell_type": "code",
   "execution_count": null,
   "metadata": {},
   "outputs": [],
   "source": [
    "# jupyter notebook이 커널로써 사용하는 python\n",
    "import sys\n",
    "sys.executable\n",
    "\n",
    "# 출력\n",
    "# c:\\\\users\\\\codybright\\\\appdata\\\\local\\\\programs\\\\python\\\\python36\\\\python.exe"
   ]
  },
  {
   "cell_type": "markdown",
   "metadata": {},
   "source": [
    "## 프로그램이 실행되는 원리\n",
    "\n",
    "`(설명을 위해 하는 설명이라 정확한 개념은 아니다)`\n",
    "\n",
    "- 프로그램이 실행되는 것은 쉽게 말하면 program.exe가 실행되는 것.\n",
    "- 그래서 우리가 Command Prompt에서 python을 입력하면 python이 실행되는 것이다.\n",
    "\n",
    "<img src=\"./public/python.PNG\" align=\"left\" width=\"700px\"/>"
   ]
  },
  {
   "cell_type": "markdown",
   "metadata": {},
   "source": [
    "### 그렇다면, 컴퓨터는 이러한 .exe 파일을 어디 있는 줄 알고 똑똑하게 실행할까? \n",
    "- 프로그램을 둘러볼 위치를 정의한 것이 바로 ***환경 변수***\n",
    "- 환경 변수는 시스템 변수와 사용자 변수가 있는데, 뭐 둘다 둘러볼 위치이고,\n",
    "- 보통 python.exe의 위치가 환경 변수 내 PATH에 저장되어 있어서 실행되는 것이다.\n",
    "\n",
    "> 그렇다면, 코드로 환경 변수 리스트를 확인해보자."
   ]
  },
  {
   "cell_type": "code",
   "execution_count": null,
   "metadata": {},
   "outputs": [],
   "source": [
    "import os\n",
    "os.environ[\"PATH\"].split(\";\")\n",
    "\n",
    "# 출력\n",
    "# 'C:\\\\Program Files (x86)\\\\Common Files\\\\Oracle\\\\Java\\\\javapath',\n",
    "# 'C:\\\\Python27\\\\',\n",
    "# 'C:\\\\Python27\\\\Scripts',\n",
    "# 'C:\\\\Program Files\\\\NVIDIA GPU Computing Toolkit\\\\CUDA\\\\v10.1\\\\bin',\n",
    "# 'C:\\\\Program Files\\\\NVIDIA GPU Computing Toolkit\\\\CUDA\\\\v10.1\\\\libnvvp',\n",
    "# 'C:\\\\windows\\\\system32',\n",
    "# 'C:\\\\windows',\n",
    "# 'C:\\\\windows\\\\System32\\\\Wbem',\n",
    "# 'C:\\\\windows\\\\System32\\\\WindowsPowerShell\\\\v1.0\\\\',\n",
    "# 'C:\\\\windows\\\\System32\\\\OpenSSH\\\\',\n",
    "# 'C:\\\\Program Files (x86)\\\\NVIDIA Corporation\\\\PhysX\\\\Common',\n",
    "# 'C:\\\\Program Files\\\\NVIDIA Corporation\\\\NVIDIA NvDLISR',\n",
    "# 'C:\\\\WINDOWS\\\\system32',\n",
    "# 'C:\\\\WINDOWS',\n",
    "# 'C:\\\\WINDOWS\\\\System32\\\\Wbem',\n",
    "# 'C:\\\\WINDOWS\\\\System32\\\\WindowsPowerShell\\\\v1.0\\\\',\n",
    "# 'C:\\\\WINDOWS\\\\System32\\\\OpenSSH\\\\',\n",
    "# 'C:\\\\Program Files\\\\Git\\\\cmd',\n",
    "# 'C:\\\\Program Files\\\\NVIDIA Corporation\\\\Nsight Compute 2019.4.0\\\\',\n",
    "# 'C:\\\\Program Files\\\\PuTTY\\\\',\n",
    "# 'C:\\\\ProgramData\\\\chocolatey\\\\bin',\n",
    "# 'C:\\\\Program Files\\\\nodejs\\\\',\n",
    "# 'C:\\\\Users\\\\ddacc\\\\Anaconda3',\n",
    "# 'C:\\\\Users\\\\ddacc\\\\Anaconda3\\\\Library\\\\mingw-w64\\\\bin',\n",
    "# 'C:\\\\Users\\\\ddacc\\\\Anaconda3\\\\Library\\\\usr\\\\bin',\n",
    "# 'C:\\\\Users\\\\ddacc\\\\Anaconda3\\\\Library\\\\bin',\n",
    "# 'C:\\\\Users\\\\ddacc\\\\Anaconda3\\\\Scripts',\n",
    "# 'C:\\\\Users\\\\ddacc\\\\AppData\\\\Local\\\\Programs\\\\Python\\\\Launcher\\\\',\n",
    "# 'C:\\\\Users\\\\ddacc\\\\AppData\\\\Local\\\\Microsoft\\\\WindowsApps',\n",
    "# 'C:\\\\Users\\\\ddacc\\\\AppData\\\\Local\\\\Programs\\\\Microsoft VS Code\\\\bin',\n",
    "# 'C:\\\\Program Files (x86)\\\\Graphviz2.38\\\\bin',\n",
    "# 'C:\\\\Program Files\\\\Bandizip\\\\',\n",
    "# 'C:\\\\Users\\\\ddacc\\\\AppData\\\\Roaming\\\\npm',\n",
    "# 'C:\\\\Modeltech_pe_edu_10.4a\\\\win32pe_edu'"
   ]
  },
  {
   "cell_type": "markdown",
   "metadata": {},
   "source": [
    "필자의 경우 python과 관련된 부분은 아래와 같고, 결론적으로 jupyter notebook에서 쓰는 그리고 시스템 기본 python이 같다.\n",
    "\n",
    "- C:\\\\Users\\\\codybright\\\\AppData\\\\Local\\\\Programs\\\\Python\\\\Python36\\\\Scripts\\\\\n",
    "- C:\\\\Users\\\\codybright\\\\AppData\\\\Local\\\\Programs\\\\Python\\\\Python36\\\\\n",
    "- c:\\\\users\\\\codybright\\\\appdata\\\\local\\\\programs\\\\python\\\\python36\\\\lib\\\\site-packages\\\\pywin32_system32\n"
   ]
  },
  {
   "cell_type": "markdown",
   "metadata": {},
   "source": [
    "&nbsp;\n",
    "\n",
    "&nbsp;\n",
    "\n",
    "&nbsp;"
   ]
  },
  {
   "cell_type": "markdown",
   "metadata": {},
   "source": [
    "# torch Environment\n",
    "\n",
    "필자도 예시 코드를 바탕으로 코드를 만드는데, 모듈 import하는 부분부터 오류가 있었다.\n",
    "<img src=\"./public/error.PNG\" align=\"left\" width=\"500px\"/>"
   ]
  },
  {
   "cell_type": "markdown",
   "metadata": {},
   "source": [
    "오류를 살펴보니, torch는 있지만, torch.utils.tensorboard은 없는 것이다.\n",
    "\n",
    "> 왜냐하면, 필자는 torch v1.0.1을 쓰는데, tensorboard는 구글 검색 결과 1.3.0부터 등장하는 듯 했다.\n",
    "\n",
    "어렵게 생각할 것 없이 업데이트를 해주면 된다.\n",
    "\n",
    "***하지만, 업데이트와 더불어 설치된 모듈 정보도 확인해보자.***"
   ]
  },
  {
   "cell_type": "code",
   "execution_count": null,
   "metadata": {},
   "outputs": [],
   "source": [
    "# pip이 온전히 설치된 사람은 결과가 등장할 것이다.\n",
    "# 필자는 순정 python, 순정 pip을 설치하였기에 터미널에서 pip이 동작한다.\n",
    "# pip도 pip.exe와 같이 실행되는 것이다.\n",
    "\n",
    "!pip show torch\n",
    "\n",
    "# 출력\n",
    "# Name: torch\n",
    "# Version: 1.5.0+cpu\n",
    "# Summary: Tensors and Dynamic neural networks in Python with strong GPU acceleration\n",
    "# Home-page: https://pytorch.org/\n",
    "# Author: PyTorch Team\n",
    "# Author-email: packages@pytorch.org\n",
    "# License: BSD-3\n",
    "# Location: c:\\users\\codybright\\appdata\\local\\programs\\python\\python36\\lib\\site-packages\n",
    "# Requires: numpy, future\n",
    "# Required-by: torchvision"
   ]
  },
  {
   "cell_type": "code",
   "execution_count": null,
   "metadata": {},
   "outputs": [],
   "source": [
    "!WHERE pip\n",
    "\n",
    "# 출력\n",
    "# C:\\Users\\codybright\\AppData\\Local\\Programs\\Python\\Python36\\Scripts\\pip.exe"
   ]
  },
  {
   "cell_type": "markdown",
   "metadata": {},
   "source": [
    "### 업그레이드의 경우 보통 검색해보면,\n",
    "\n",
    "`pip install torch` or `pip install --upgrade torch torchvision`\n",
    "\n",
    "즉, pip이 설치 명령어만 줘도 알아서 업그레이드 해준다 or 업그레이드 조건을 준다인데,\n",
    "\n",
    "사실상 여러 버전이 깔리는 것을 원치 않는다면, 삭제해주고 설치하는 것이 낫다.\n",
    "\n",
    "그래서 필자는\n",
    "\n",
    "`pip uninstall torch torchvision`\n",
    "\n",
    "`pip install torch==1.5.0+cpu torchvision==0.6.0+cpu -f https://download.pytorch.org/whl/torch_stable.html`\n",
    "\n",
    "을 실행했다.\n",
    "\n",
    "그냥 `pip install torch torchvision`을 하니 오류가 났었다."
   ]
  },
  {
   "cell_type": "markdown",
   "metadata": {},
   "source": [
    "&nbsp;\n",
    "\n",
    "&nbsp;\n",
    "\n",
    "&nbsp;"
   ]
  },
  {
   "cell_type": "markdown",
   "metadata": {},
   "source": [
    "# Error Log"
   ]
  },
  {
   "cell_type": "markdown",
   "metadata": {},
   "source": [
    "## facenet_pytorch 모듈을 import하는 과정에서 오류\n",
    "\n",
    "> facenet_pytorch 모듈 내 opencv라는 모듈을 사용하는데, 이것이 컴퓨터에 설치되어 있지 않아서 오류가 발생했다.\n",
    "\n",
    "처음으로 실행했던 노트북 환경이 아닌 전산실 컴퓨터에서 발생하였다.\n",
    "전산실 컴퓨터의 경우, 아래와 같이 python이 설치되어 있다.\n",
    "\n",
    "- C:\\Python27\\python.exe\n",
    "- C:\\Users\\ddacc\\Anaconda3\\python.exe\n",
    "- C:\\Users\\ddacc\\AppData\\Local\\Microsoft\\WindowsApps\\python.exe\n",
    "\n",
    "그리고, jupyter notebook이 시스템 프로그램이 아닌 아나콘다 내 프로그램으로 되어 있고, anaconda 폴더 내 scripts는 PATH 설정이 되어 있지 않아, Anaconda Prompt로 jupyter를 실행해야 하고, 모듈 설치 시에서 Anaconda Prompt로 해야 한다.\n",
    "\n",
    "> 해결 방법\n",
    "\n",
    "- Anaconda Prompt에 다음 명령어 입력하여 설치 `pip install opencv-python`"
   ]
  },
  {
   "cell_type": "markdown",
   "metadata": {},
   "source": [
    "## torch.utils.tensorboard를 import하는 과정에서 오류"
   ]
  },
  {
   "cell_type": "markdown",
   "metadata": {},
   "source": [
    "> `ImportError: TensorBoard logging requires TensorBoard with Python summary writer installed. This should be available in 1.14 or above.`\n",
    "\n",
    "아마도 tensorboard의 경우, Tensorflow에 속하거나 혹은 그와 동등한 위치의 모듈로써 tensorflow 설치 시 같이 설치되는 것 같은데, 여기서는 안전하게 tensorboard 만을 따로 설치한다.\n",
    "\n",
    "> 해결 방법\n",
    "\n",
    "이 문제의 경우도 이 컴퓨터 python 환경이 Anaconda 환경이라, Anaconda Prompt를 실행해서, `conda install -c conda-forge tensorboard` 명령어를 입력해주었다. 아나콘다 환경이 아니라면... 또 알아봐야 한다. (극심한 스트레스)"
   ]
  }
 ],
 "metadata": {
  "kernelspec": {
   "display_name": "Python 3",
   "language": "python",
   "name": "python3"
  },
  "language_info": {
   "codemirror_mode": {
    "name": "ipython",
    "version": 3
   },
   "file_extension": ".py",
   "mimetype": "text/x-python",
   "name": "python",
   "nbconvert_exporter": "python",
   "pygments_lexer": "ipython3",
   "version": "3.6.8"
  }
 },
 "nbformat": 4,
 "nbformat_minor": 2
}
